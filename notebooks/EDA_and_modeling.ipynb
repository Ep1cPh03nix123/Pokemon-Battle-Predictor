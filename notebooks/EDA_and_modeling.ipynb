{
 "cells": [
  {
   "cell_type": "code",
   "execution_count": 56,
   "id": "9b7de5ee",
   "metadata": {},
   "outputs": [],
   "source": [
    "\n",
    "# Imports\n",
    "import pandas as pd\n",
    "import numpy as np\n",
    "import matplotlib.pyplot as plt\n",
    "import seaborn as sns\n",
    "from sklearn.model_selection import train_test_split\n",
    "from sklearn.preprocessing import StandardScaler\n",
    "from sklearn.linear_model import LogisticRegression\n",
    "from sklearn.ensemble import RandomForestClassifier, VotingClassifier\n",
    "from sklearn.metrics import accuracy_score, classification_report, confusion_matrix\n",
    "import joblib\n",
    "import xgboost as xgb\n",
    "\n",
    "# Load data\n",
    "pokemon = pd.read_csv(\"../data/pokemon.csv\")\n",
    "combats = pd.read_csv(\"../data/combats.csv\")\n",
    "type_chart = pd.read_csv(\"../data/Pokemon Type Chart.csv\")\n",
    "pokemon.rename(columns={\"#\": \"ID\"}, inplace=True)\n"
   ]
  },
  {
   "cell_type": "code",
   "execution_count": 57,
   "id": "c40fe919",
   "metadata": {},
   "outputs": [],
   "source": [
    "\n",
    "def calculate_stat(base, level=50, iv=31, ev=0, nature=1.0, is_hp=False):\n",
    "    if is_hp:\n",
    "        return int((((2 * base + iv + (ev // 4)) * level) / 100) + level + 10)\n",
    "    else:\n",
    "        return int(((((2 * base + iv + (ev // 4)) * level) / 100) + 5) * nature)\n",
    "\n",
    "def compute_type_effectiveness(attacker_types, defender_types, chart_df):\n",
    "    effectiveness = 1.0\n",
    "    for atk_type in attacker_types:\n",
    "        for def_type in defender_types:\n",
    "            try:\n",
    "                multiplier = chart_df.loc[chart_df['Attacking'] == atk_type, def_type].values[0]\n",
    "                effectiveness *= multiplier\n",
    "            except (KeyError, IndexError):\n",
    "                effectiveness *= 1.0\n",
    "    return effectiveness\n"
   ]
  },
  {
   "cell_type": "code",
   "execution_count": 58,
   "id": "ad5a32de",
   "metadata": {},
   "outputs": [],
   "source": [
    "\n",
    "features = []\n",
    "labels = []\n",
    "\n",
    "for _, row in combats.iterrows():\n",
    "    p1 = pokemon[pokemon['ID'] == row['First_pokemon']].iloc[0]\n",
    "    p2 = pokemon[pokemon['ID'] == row['Second_pokemon']].iloc[0]\n",
    "\n",
    "    stats_1 = [\n",
    "        calculate_stat(p1[\"HP\"], is_hp=True),\n",
    "        calculate_stat(p1[\"Attack\"]),\n",
    "        calculate_stat(p1[\"Defense\"]),\n",
    "        calculate_stat(p1[\"Sp. Atk\"]),\n",
    "        calculate_stat(p1[\"Sp. Def\"]),\n",
    "    ]\n",
    "    stats_2 = [\n",
    "        calculate_stat(p2[\"HP\"], is_hp=True),\n",
    "        calculate_stat(p2[\"Attack\"]),\n",
    "        calculate_stat(p2[\"Defense\"]),\n",
    "        calculate_stat(p2[\"Sp. Atk\"]),\n",
    "        calculate_stat(p2[\"Sp. Def\"]),\n",
    "    ]\n",
    "\n",
    "    bst1 = sum(stats_1)\n",
    "    bst2 = sum(stats_2)\n",
    "\n",
    "    t1 = [p1[\"Type 1\"]] + ([p1[\"Type 2\"]] if pd.notna(p1[\"Type 2\"]) else [])\n",
    "    t2 = [p2[\"Type 1\"]] + ([p2[\"Type 2\"]] if pd.notna(p2[\"Type 2\"]) else [])\n",
    "    type_diff = compute_type_effectiveness(t1, t2, type_chart) - compute_type_effectiveness(t2, t1, type_chart)\n",
    "\n",
    "    features.append(stats_1 + stats_2 + [bst1, bst2, type_diff])\n",
    "    labels.append(1 if row[\"Winner\"] == row[\"First_pokemon\"] else 0)\n",
    "\n",
    "X = np.array(features)\n",
    "y = np.array(labels)\n"
   ]
  },
  {
   "cell_type": "code",
   "execution_count": 59,
   "id": "77b5d4e0",
   "metadata": {},
   "outputs": [
    {
     "name": "stderr",
     "output_type": "stream",
     "text": [
      "c:\\Users\\samue\\Downloads\\TXST items\\Spring 2025\\Intro to Machine Learning - 4347\\CS4347 Project\\Pokemon-Battle-Predictor\\venv\\lib\\site-packages\\xgboost\\training.py:183: UserWarning: [02:12:41] WARNING: C:\\actions-runner\\_work\\xgboost\\xgboost\\src\\learner.cc:738: \n",
      "Parameters: { \"use_label_encoder\" } are not used.\n",
      "\n",
      "  bst.update(dtrain, iteration=i, fobj=obj)\n"
     ]
    },
    {
     "name": "stdout",
     "output_type": "stream",
     "text": [
      "Logistic Regression Accuracy: 0.6969\n",
      "Random Forest Accuracy: 0.8153\n",
      "XGBoost Accuracy: 0.8439\n"
     ]
    }
   ],
   "source": [
    "\n",
    "X_train, X_test, y_train, y_test = train_test_split(X, y, test_size=0.2, random_state=42)\n",
    "\n",
    "scaler = StandardScaler()\n",
    "X_train_scaled = scaler.fit_transform(X_train)\n",
    "X_test_scaled = scaler.transform(X_test)\n",
    "\n",
    "lr = LogisticRegression(max_iter=1000)\n",
    "rf = RandomForestClassifier(n_estimators=100, random_state=42)\n",
    "xgb_model = xgb.XGBClassifier(use_label_encoder=False, eval_metric='logloss')\n",
    "\n",
    "lr.fit(X_train_scaled, y_train)\n",
    "rf.fit(X_train_scaled, y_train)\n",
    "xgb_model.fit(X_train_scaled, y_train)\n",
    "\n",
    "# Evaluation\n",
    "lr_acc = accuracy_score(y_test, lr.predict(X_test_scaled))\n",
    "rf_acc = accuracy_score(y_test, rf.predict(X_test_scaled))\n",
    "xgb_acc = accuracy_score(y_test, xgb_model.predict(X_test_scaled))\n",
    "\n",
    "print(f\"Logistic Regression Accuracy: {lr_acc:.4f}\")\n",
    "print(f\"Random Forest Accuracy: {rf_acc:.4f}\")\n",
    "print(f\"XGBoost Accuracy: {xgb_acc:.4f}\")\n"
   ]
  },
  {
   "cell_type": "code",
   "execution_count": 60,
   "id": "cee873b5",
   "metadata": {},
   "outputs": [
    {
     "name": "stdout",
     "output_type": "stream",
     "text": [
      "Best model: XGBoost with accuracy: 0.8439\n",
      "Model and scaler saved.\n"
     ]
    }
   ],
   "source": [
    "\n",
    "accuracies = {'Logistic Regression': lr_acc, 'Random Forest': rf_acc, 'XGBoost': xgb_acc}\n",
    "best_name = max(accuracies, key=accuracies.get)\n",
    "best_model = {'Logistic Regression': lr, 'Random Forest': rf, 'XGBoost': xgb_model}[best_name]\n",
    "\n",
    "print(f\"Best model: {best_name} with accuracy: {accuracies[best_name]:.4f}\")\n",
    "\n",
    "joblib.dump(best_model, \"../models/model.pkl\")\n",
    "joblib.dump(scaler, \"../models/scaler.pkl\")\n",
    "print(\"Model and scaler saved.\")\n"
   ]
  }
 ],
 "metadata": {
  "kernelspec": {
   "display_name": "venv",
   "language": "python",
   "name": "python3"
  },
  "language_info": {
   "codemirror_mode": {
    "name": "ipython",
    "version": 3
   },
   "file_extension": ".py",
   "mimetype": "text/x-python",
   "name": "python",
   "nbconvert_exporter": "python",
   "pygments_lexer": "ipython3",
   "version": "3.10.6"
  }
 },
 "nbformat": 4,
 "nbformat_minor": 5
}
